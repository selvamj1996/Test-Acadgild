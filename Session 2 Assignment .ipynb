{
 "cells": [
  {
   "cell_type": "markdown",
   "metadata": {},
   "source": [
    "## <center>Task 1</center>"
   ]
  },
  {
   "cell_type": "markdown",
   "metadata": {},
   "source": [
    "1.1. Write a Python Program to implement your own myreduce() function which works exactly like\n",
    "Python's built-in function reduce()"
   ]
  },
  {
   "cell_type": "code",
   "execution_count": 1,
   "metadata": {},
   "outputs": [
    {
     "data": {
      "text/plain": [
       "100"
      ]
     },
     "execution_count": 1,
     "metadata": {},
     "output_type": "execute_result"
    }
   ],
   "source": [
    "from functools import reduce\n",
    "\n",
    "lst =[30,7,13,23,12,15]\n",
    "reduce(lambda x,y: x+y,lst)"
   ]
  },
  {
   "cell_type": "markdown",
   "metadata": {},
   "source": [
    "1.2. Write a Python program to implement your own myfilter() function which works exactly like\n",
    "Python's built-in function filter()"
   ]
  },
  {
   "cell_type": "code",
   "execution_count": 2,
   "metadata": {},
   "outputs": [],
   "source": [
    "def odd_check(num):\n",
    "    if num%3 ==0:\n",
    "        return True"
   ]
  },
  {
   "cell_type": "code",
   "execution_count": 3,
   "metadata": {},
   "outputs": [
    {
     "data": {
      "text/plain": [
       "[0, 3, 6, 9, 12]"
      ]
     },
     "execution_count": 3,
     "metadata": {},
     "output_type": "execute_result"
    }
   ],
   "source": [
    "lst =range(15)\n",
    "\n",
    "list(filter(odd_check,lst))"
   ]
  },
  {
   "cell_type": "markdown",
   "metadata": {},
   "source": [
    "2. Implement List comprehensions to produce the following lists.\n",
    "\n",
    "Write List comprehensions to produce the following Lists\n",
    "\n",
    "['A', 'C', 'A', 'D', 'G', 'I', ’L’, ‘ D’]<br>\n",
    "['x', 'xx', 'xxx', 'xxxx', 'y', 'yy', 'yyy', 'yyyy', 'z', 'zz', 'zzz', 'zzzz']<br>\n",
    "['x', 'y', 'z', 'xx', 'yy', 'zz', 'xx', 'yy', 'zz', 'xxxx', 'yyyy', 'zzzz']<br>\n",
    "[[2], [3], [4], [3], [4], [5], [4], [5], [6]]<br>\n",
    "[[2, 3, 4, 5], [3, 4, 5, 6], [4, 5, 6, 7], [5, 6, 7, 8]]<br>\n",
    "[(1, 1), (2, 1), (3, 1), (1, 2), (2, 2), (3, 2), (1, 3), (2, 3), (3, 3)]<br>"
   ]
  },
  {
   "cell_type": "code",
   "execution_count": 4,
   "metadata": {},
   "outputs": [
    {
     "name": "stdout",
     "output_type": "stream",
     "text": [
      "['A', 'C', 'A', 'D', 'G', 'I', 'L', 'D']\n",
      "['x', 'xx', 'xxx', 'xxxx', 'y', 'yy', 'yyy', 'yyyy', 'z', 'zz', 'zzz', 'zzzz']\n",
      "['x', 'y', 'z', 'xx', 'yy', 'zz', 'xxx', 'yyy', 'zzz', 'xxxx', 'yyyy', 'zzzz']\n",
      "[[2], [3], [4], [3], [4], [5], [4], [5], [6]]\n",
      "[[2, 3, 4, 5], [3, 4, 5, 6], [4, 5, 6, 7], [5, 6, 7, 8]]\n",
      "[(1, 1), (2, 1), (3, 1), (1, 2), (2, 2), (3, 2), (1, 3), (2, 3), (3, 3)]\n"
     ]
    }
   ],
   "source": [
    "word = \"ACADGILD\"\n",
    "alphabet_list = [ alphabet for alphabet in word ]\n",
    "print (str(alphabet_list))\n",
    "\n",
    "input_list = ['x','y','z']\n",
    "result = [ item*num for item in input_list for num in range(1,5)  ]\n",
    "print(str(result))\n",
    "\n",
    "input_list = ['x','y','z']\n",
    "result = [ item*num for num in range(1,5) for item in input_list  ]\n",
    "print(str(result))\n",
    "\n",
    "input_list = [2,3,4]\n",
    "result = [ [item+num] for item in input_list for num in range(0,3)]\n",
    "print(str(result))\n",
    "\n",
    "input_list = [2,3,4,5]\n",
    "result = [ [item+num for item in input_list] for num in range(0,4)  ]\n",
    "print(str(result))\n",
    "\n",
    "input_list=[1,2,3]\n",
    "result = [ (b,a) for a in input_list for b in input_list]\n",
    "print(str(result))"
   ]
  },
  {
   "cell_type": "markdown",
   "metadata": {},
   "source": [
    "3. Implement a function longestWord() that takes a list of words and returns the longest one"
   ]
  },
  {
   "cell_type": "code",
   "execution_count": 5,
   "metadata": {},
   "outputs": [
    {
     "name": "stdout",
     "output_type": "stream",
     "text": [
      "Python12\n"
     ]
    }
   ],
   "source": [
    "def find_longest_word(words_list):\n",
    "    word_len = []\n",
    "    for n in words_list:\n",
    "        word_len.append((len(n), n))\n",
    "    word_len.sort()\n",
    "    return word_len[-1][1]\n",
    "print(find_longest_word([\"Laravel\", \"Python12\", \"HTML5\"]))"
   ]
  },
  {
   "cell_type": "markdown",
   "metadata": {},
   "source": [
    "## <center> Task 2</center>"
   ]
  },
  {
   "cell_type": "markdown",
   "metadata": {},
   "source": [
    "1.1. Write a Python Program(with class concepts) to find the area of the triangle using the below\n",
    "formula.\n",
    "\n",
    "area = (s*(s-a)*(s-b)*(s-c)) ** 0.5\n",
    "\n",
    "Function to take the length of the sides of triangle from user should be defined in the parent\n",
    "class and function to calculate the area should be defined in subclass."
   ]
  },
  {
   "cell_type": "code",
   "execution_count": 6,
   "metadata": {},
   "outputs": [],
   "source": [
    "class Polygon:\n",
    "    def __init__(self, n):\n",
    "        self.number_of_sides = n\n",
    "    \n",
    "    def print_num_sides(self):\n",
    "        print('There are ' + str(self.number_of_sides) + ' sides.')\n",
    "\n",
    "class Triangle(Polygon):\n",
    "\n",
    "    def __init__(self, lengths_of_sides):\n",
    "        Polygon.__init__(self, 3)\n",
    "        self.lengths_of_sides = lengths_of_sides\n",
    "    \n",
    "    def get_area(self):\n",
    "        a, b, c = self.lengths_of_sides        \n",
    "        \n",
    "        s = (a + b + c) / 2\n",
    "        return (s*(s-a)*(s-b)*(s-c)) ** 0.5"
   ]
  },
  {
   "cell_type": "code",
   "execution_count": 7,
   "metadata": {},
   "outputs": [
    {
     "name": "stdout",
     "output_type": "stream",
     "text": [
      "There are 3 sides.\n"
     ]
    }
   ],
   "source": [
    "p = Polygon(3)\n",
    "p.print_num_sides()"
   ]
  },
  {
   "cell_type": "code",
   "execution_count": 8,
   "metadata": {},
   "outputs": [
    {
     "name": "stdout",
     "output_type": "stream",
     "text": [
      "96.0\n"
     ]
    }
   ],
   "source": [
    "tri = Triangle([12,16,20])\n",
    "print(tri.get_area())"
   ]
  },
  {
   "cell_type": "markdown",
   "metadata": {},
   "source": [
    "1.2. Write a function filter_long_words() that takes a list of words and an integer n and returns the list\n",
    "of words that are longer than n."
   ]
  },
  {
   "cell_type": "code",
   "execution_count": 9,
   "metadata": {},
   "outputs": [
    {
     "name": "stdout",
     "output_type": "stream",
     "text": [
      "['122121', '1212']\n"
     ]
    }
   ],
   "source": [
    "def filter_long_words(words, n):\n",
    "    return [word for word in words if len(word) > n]\n",
    "\n",
    "print(filter_long_words(['2', '123', '122121', '12', '1212'], 3))"
   ]
  },
  {
   "cell_type": "markdown",
   "metadata": {},
   "source": [
    "2.1 Write a Python program using function concept that maps list of words into a list of integers\n",
    "representing the lengths of the corresponding words .<br>\n",
    "Hint: If a list [ ab,cde,erty] is passed on to the python function output should come as [2,3,4]\n",
    "Here 2,3 and 4 are the lengths of the words in the list."
   ]
  },
  {
   "cell_type": "code",
   "execution_count": 10,
   "metadata": {},
   "outputs": [
    {
     "name": "stdout",
     "output_type": "stream",
     "text": [
      "[2, 3, 4]\n"
     ]
    }
   ],
   "source": [
    "def map_to_lengths_map(words):\n",
    "    return map(len, words)\n",
    "\n",
    "if __name__ == \"__main__\":\n",
    "    words = ['ab', 'cde', 'test']\n",
    "    print(list(map_to_lengths_map(words)))"
   ]
  },
  {
   "cell_type": "markdown",
   "metadata": {},
   "source": [
    "2.2. Write a Python function which takes a character (i.e. a string of length 1) and returns True if it is\n",
    "a vowel, False otherwise."
   ]
  },
  {
   "cell_type": "code",
   "execution_count": 11,
   "metadata": {},
   "outputs": [
    {
     "name": "stdout",
     "output_type": "stream",
     "text": [
      "False\n",
      "True\n",
      "False\n"
     ]
    }
   ],
   "source": [
    "def is_vowel(char):\n",
    "    vowels = ('a', 'e', 'i', 'o', 'u')\n",
    "    if char not in vowels:\n",
    "        return False\n",
    "    return True\n",
    "\n",
    "\n",
    "if __name__ == \"__main__\":\n",
    "    print(is_vowel(1))\n",
    "    print(is_vowel('a'))\n",
    "    print(is_vowel('b'))"
   ]
  }
 ],
 "metadata": {
  "kernelspec": {
   "display_name": "Python 3",
   "language": "python",
   "name": "python3"
  },
  "language_info": {
   "codemirror_mode": {
    "name": "ipython",
    "version": 3
   },
   "file_extension": ".py",
   "mimetype": "text/x-python",
   "name": "python",
   "nbconvert_exporter": "python",
   "pygments_lexer": "ipython3",
   "version": "3.7.0"
  }
 },
 "nbformat": 4,
 "nbformat_minor": 2
}
